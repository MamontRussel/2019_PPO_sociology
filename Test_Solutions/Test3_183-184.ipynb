{
 "cells": [
  {
   "cell_type": "markdown",
   "metadata": {
    "colab_type": "text",
    "id": "0fcgHX_h2SEv"
   },
   "source": [
    "# Самостоятельная №3"
   ]
  },
  {
   "cell_type": "markdown",
   "metadata": {
    "colab_type": "text",
    "id": "ZN14oLHV3jdh"
   },
   "source": [
    "**Списывание и использование телефонов**\n",
    "\n",
    "Первое предупреждение, сделанное ассистентом или преподавателем: - 1 балл к вашей оценке. \n",
    "\n",
    "Второе предупреждение: работа аннулируется без права переписывания."
   ]
  },
  {
   "cell_type": "markdown",
   "metadata": {
    "colab_type": "text",
    "id": "f8TCj5_o2iN0"
   },
   "source": [
    "0. **Оформление и стиль (0.5 балла).**\n",
    "\n",
    "Этот балл у вас есть по умолчанию при условии сданной работы с решенными задачами. \n",
    "\n",
    "За каждый тип повторяющейся стилистической ошибки снимается 0.25 балла Повторяющейся считаем ошибку, допущенную минимум 2 раза.\n",
    "\n",
    "0.25 балла снимается за каждые 4 не систематические ошибки (4 разных ошибки, допущенных по одному разу.)\n",
    "\n",
    "Так же из этого балла могут сниматься штрафы 0.1 за использование ненужных функций (мы не оцениваем здесь эффективность решения, но смотрим на такие вещи, как, например, перевод строкового вода в строку - лишняя ненужная операция.)\n",
    "\n",
    "**Все задачи должны принимать значения на ввод (решение для частного случая будет считаться неполным).**"
   ]
  },
  {
   "cell_type": "markdown",
   "metadata": {
    "colab_type": "text",
    "id": "hhFhOAbR2SEz"
   },
   "source": [
    "1. **Тест (2 балла, каждый вопрос по 0,2 балла)**"
   ]
  },
  {
   "cell_type": "markdown",
   "metadata": {
    "colab_type": "text",
    "id": "IORJS0JiX4Sm"
   },
   "source": [
    "1) Что возвращает метод словаря .items():\n",
    "\n",
    "    a) значения в словаре.\n",
    "    b) пары (ключ, значение).\n",
    "    c) ключи в словаре.\n",
    "    d) уникальные значения в словаре."
   ]
  },
  {
   "cell_type": "code",
   "execution_count": 0,
   "metadata": {
    "colab": {},
    "colab_type": "code",
    "collapsed": true,
    "id": "l8C3Am5RX_TI"
   },
   "outputs": [],
   "source": [
    "# Ваш ответ на вопрос 1 здесь в комментарии\n",
    "# b"
   ]
  },
  {
   "cell_type": "markdown",
   "metadata": {
    "colab_type": "text",
    "id": "12lEXYIRj2Pa"
   },
   "source": [
    "        2) Выберете правильное(-ые) утверждение(-ия) о методе списка sort и встроенной функции sorted():\n",
    "        \n",
    "    a) метод sort возвращает отсортированный список\n",
    "    b) функция sorted возвращает отсортированный список\n",
    "    c) метод sort изменяет исходный список\n",
    "    d) функция sorted изменяет исходный список"
   ]
  },
  {
   "cell_type": "code",
   "execution_count": 0,
   "metadata": {
    "colab": {},
    "colab_type": "code",
    "collapsed": true,
    "id": "K8kks_bJj5A-"
   },
   "outputs": [],
   "source": [
    "# Ваш ответ на вопрос 2 здесь в комментарии\n",
    "# b, c"
   ]
  },
  {
   "cell_type": "markdown",
   "metadata": {
    "colab_type": "text",
    "id": "LJmqZeW1_RGg"
   },
   "source": [
    "3) Выберете правильное(-ые) утверждение(-ия).\n",
    "\n",
    "    Что нужно подать в метод списка sort() чтобы получить отсортированный по возрастанию список?\n",
    "    \n",
    "    a) ascending = True\n",
    "    b) reverse = False\n",
    "    c) ничего\n",
    "    d) increasing = True"
   ]
  },
  {
   "cell_type": "code",
   "execution_count": 0,
   "metadata": {
    "colab": {},
    "colab_type": "code",
    "collapsed": true,
    "id": "axzQUvUbkbRE"
   },
   "outputs": [],
   "source": [
    "# Ваш ответ на вопрос 3 здесь в комментарии\n",
    "# b, c"
   ]
  },
  {
   "cell_type": "markdown",
   "metadata": {
    "colab_type": "text",
    "id": "BDzMVT_jkhKJ"
   },
   "source": [
    "4) Дан следующий код:\n",
    "    \n",
    "    some_dict = {0:0,1:1,2:2}\n",
    "    for i in some_dict:\n",
    "          print(i)\n",
    "    \n",
    "    По чему проходится данный цикл:\n",
    "    a) по ключам some_dict\n",
    "    b) по значениям some_dict\n",
    "    c) по индексам some_dict\n",
    "    d) по парам (ключ, значение)"
   ]
  },
  {
   "cell_type": "code",
   "execution_count": 0,
   "metadata": {
    "colab": {},
    "colab_type": "code",
    "collapsed": true,
    "id": "23-CvvrFkijT"
   },
   "outputs": [],
   "source": [
    "# Ваш ответ на вопрос 4 здесь в комментарии\n",
    "# a"
   ]
  },
  {
   "cell_type": "markdown",
   "metadata": {
    "colab_type": "text",
    "id": "i67EWdjbnAZ-"
   },
   "source": [
    "5. Напишите два варианта, как создать пустой словарь."
   ]
  },
  {
   "cell_type": "code",
   "execution_count": 0,
   "metadata": {
    "colab": {},
    "colab_type": "code",
    "collapsed": true,
    "id": "ZoJPWid2k6kf"
   },
   "outputs": [],
   "source": [
    "# Ваш ответ на вопрос 5 здесь в комментарии\n",
    "# Вариант 1: {}\n",
    "# Вариант 2: dict()"
   ]
  },
  {
   "cell_type": "markdown",
   "metadata": {
    "colab_type": "text",
    "id": "O2M-krb9nKWE"
   },
   "source": [
    "6. Какой метод строк проверяет, что все символы строки являются буквами?"
   ]
  },
  {
   "cell_type": "code",
   "execution_count": 0,
   "metadata": {
    "colab": {},
    "colab_type": "code",
    "collapsed": true,
    "id": "IP_M6dMynJbw"
   },
   "outputs": [],
   "source": [
    "# Ваш ответ на вопрос 6 здесь в комментарии\n",
    "# .isalpha()"
   ]
  },
  {
   "cell_type": "markdown",
   "metadata": {
    "colab_type": "text",
    "id": "ClfkxknPnTeX"
   },
   "source": [
    "7. Какой метод строк проверяет, что все символы строки являются цифрами?"
   ]
  },
  {
   "cell_type": "code",
   "execution_count": 0,
   "metadata": {
    "colab": {},
    "colab_type": "code",
    "collapsed": true,
    "id": "lbT1M5cBnS1-"
   },
   "outputs": [],
   "source": [
    "# Ваш ответ на вопрос 7 здесь в комментарии\n",
    "# .isdigit()"
   ]
  },
  {
   "cell_type": "markdown",
   "metadata": {
    "colab_type": "text",
    "id": "MwSEZGOjneQX"
   },
   "source": [
    "8. Какой метод строк проверяет, что все символы строки являются буквами или цифрами?"
   ]
  },
  {
   "cell_type": "code",
   "execution_count": 0,
   "metadata": {
    "colab": {},
    "colab_type": "code",
    "collapsed": true,
    "id": "hV4veWF7neF_"
   },
   "outputs": [],
   "source": [
    "# Ваш ответ на вопрос 8 здесь в комментарии\n",
    "# .isalnum()"
   ]
  },
  {
   "cell_type": "markdown",
   "metadata": {
    "colab_type": "text",
    "id": "yvz_rPC1nkVX"
   },
   "source": [
    "9. Какой метод строк проверяет, что все символы строки являются маленькими (строчными) буквами?"
   ]
  },
  {
   "cell_type": "code",
   "execution_count": 0,
   "metadata": {
    "colab": {},
    "colab_type": "code",
    "collapsed": true,
    "id": "g5Yh-LyVnkdD"
   },
   "outputs": [],
   "source": [
    "# Ваш ответ на вопрос 9 здесь в комментарии\n",
    "# .islower()"
   ]
  },
  {
   "cell_type": "markdown",
   "metadata": {
    "colab_type": "text",
    "id": "q16nymLanq3I"
   },
   "source": [
    "10. Какой метод строк проверяет, что все символы строки являются большими (заглавными, прописными) буквами?"
   ]
  },
  {
   "cell_type": "code",
   "execution_count": 0,
   "metadata": {
    "colab": {},
    "colab_type": "code",
    "collapsed": true,
    "id": "Mn5l53dBnstK"
   },
   "outputs": [],
   "source": [
    "# Ваш ответ на вопрос 10 здесь в коде ниже\n",
    "# .isupper()"
   ]
  },
  {
   "cell_type": "markdown",
   "metadata": {
    "colab_type": "text",
    "id": "n1zNgnTw2SE1"
   },
   "source": [
    "2. **Одной строкой (2 балла, каждый вопрос по 0,2 балла)**\n",
    "\n",
    "Во время исполнения кода не перезаписывайте значения переменных ex2 и ex3 (если только метод не делает этого по умолчанию)\n"
   ]
  },
  {
   "cell_type": "code",
   "execution_count": 27,
   "metadata": {
    "colab": {
     "base_uri": "https://localhost:8080/",
     "height": 34
    },
    "colab_type": "code",
    "collapsed": false,
    "id": "xyhRLXy_54gY",
    "outputId": "848c44ae-218a-477f-8824-9203f08c9113"
   },
   "outputs": [
    {
     "data": {
      "text/plain": [
       "['Wink,', 'wink,', 'nudge,', 'nudge,', 'say', 'no', 'more']"
      ]
     },
     "execution_count": 27,
     "metadata": {},
     "output_type": "execute_result"
    }
   ],
   "source": [
    "# исполните эту ячейку\n",
    "ex2 = 'Wink, wink, nudge, nudge, say no more'.split()\n",
    "ex2"
   ]
  },
  {
   "cell_type": "markdown",
   "metadata": {
    "colab_type": "text",
    "id": "tsWfj7p16795"
   },
   "source": [
    "\n",
    "      1. Добавьте в конец списка строку 'say no more'.\n"
   ]
  },
  {
   "cell_type": "code",
   "execution_count": 28,
   "metadata": {
    "colab": {},
    "colab_type": "code",
    "collapsed": false,
    "id": "ayWccGmf1wNG"
   },
   "outputs": [
    {
     "data": {
      "text/plain": [
       "['Wink,', 'wink,', 'nudge,', 'nudge,', 'say', 'no', 'more', 'say no more']"
      ]
     },
     "execution_count": 28,
     "metadata": {},
     "output_type": "execute_result"
    }
   ],
   "source": [
    "# Решение 2.1 \n",
    "ex2.append('say no more')\n",
    "ex2"
   ]
  },
  {
   "cell_type": "markdown",
   "metadata": {
    "colab_type": "text",
    "id": "90EWiUYV4_m8"
   },
   "source": [
    "        2. Посчитайте количество 'wink' в списке.\n"
   ]
  },
  {
   "cell_type": "code",
   "execution_count": 29,
   "metadata": {
    "colab": {},
    "colab_type": "code",
    "collapsed": false,
    "id": "qh2BJZlG5Ncf"
   },
   "outputs": [
    {
     "data": {
      "text/plain": [
       "0"
      ]
     },
     "execution_count": 29,
     "metadata": {},
     "output_type": "execute_result"
    }
   ],
   "source": [
    "# Решение 2.2\n",
    "ex2.count('wink')"
   ]
  },
  {
   "cell_type": "markdown",
   "metadata": {
    "colab_type": "text",
    "id": "DkFIMSyu5VZH"
   },
   "source": [
    "       3. Удалите строку 'say no more' из списка и сохраните ее в переменной (с помощью одного метода). Напечатайте значение этой переменной."
   ]
  },
  {
   "cell_type": "code",
   "execution_count": 30,
   "metadata": {
    "colab": {},
    "colab_type": "code",
    "collapsed": false,
    "id": "wI5zWRzl7i0w"
   },
   "outputs": [
    {
     "name": "stdout",
     "output_type": "stream",
     "text": [
      "say no more\n"
     ]
    }
   ],
   "source": [
    "# Решение 2.3\n",
    "temp = ex2.pop(-1)\n",
    "print(temp)"
   ]
  },
  {
   "cell_type": "markdown",
   "metadata": {
    "colab_type": "text",
    "id": "DR_f71s15NtK"
   },
   "source": [
    "        4. Измените порядок элементов в списке на обратный.\n"
   ]
  },
  {
   "cell_type": "code",
   "execution_count": 77,
   "metadata": {
    "colab": {},
    "colab_type": "code",
    "collapsed": false,
    "id": "wq2L-OVi5aur"
   },
   "outputs": [
    {
     "data": {
      "text/plain": [
       "['more', 'no', 'say', 'nudge,', 'nudge,', 'wink,', 'Wink,']"
      ]
     },
     "execution_count": 77,
     "metadata": {},
     "output_type": "execute_result"
    }
   ],
   "source": [
    "# Решение 2.4\n",
    "ex2.reverse()\n",
    "ex2"
   ]
  },
  {
   "cell_type": "markdown",
   "metadata": {
    "colab_type": "text",
    "id": "6511a9yY5a--"
   },
   "source": [
    "        5. Найдите индекс элемента 'say'."
   ]
  },
  {
   "cell_type": "code",
   "execution_count": 78,
   "metadata": {
    "colab": {},
    "colab_type": "code",
    "collapsed": false,
    "id": "2pRW-FSG7Dku"
   },
   "outputs": [
    {
     "data": {
      "text/plain": [
       "2"
      ]
     },
     "execution_count": 78,
     "metadata": {},
     "output_type": "execute_result"
    }
   ],
   "source": [
    "# Решение 2.5\n",
    "ex2.index('say')"
   ]
  },
  {
   "cell_type": "markdown",
   "metadata": {
    "colab_type": "text",
    "id": "NFSB2hSD8KnR"
   },
   "source": [
    "        6. Выведите все уникальные элементы списка ex2 (решение с помощью одной функции).\n"
   ]
  },
  {
   "cell_type": "code",
   "execution_count": 79,
   "metadata": {
    "colab": {},
    "colab_type": "code",
    "collapsed": false,
    "id": "mhmnPGZQ8Nkb"
   },
   "outputs": [
    {
     "data": {
      "text/plain": [
       "{'Wink,', 'more', 'no', 'nudge,', 'say', 'wink,'}"
      ]
     },
     "execution_count": 79,
     "metadata": {},
     "output_type": "execute_result"
    }
   ],
   "source": [
    "# Решение 2.6\n",
    "set(ex2)"
   ]
  },
  {
   "cell_type": "markdown",
   "metadata": {
    "colab_type": "text",
    "id": "MFCyjwFz8N3D"
   },
   "source": [
    "7. В ячейке ниже дан еще один список. С помощью операций над множествами, найдите элементы, которые есть в обоих списках."
   ]
  },
  {
   "cell_type": "code",
   "execution_count": 80,
   "metadata": {
    "colab": {
     "base_uri": "https://localhost:8080/",
     "height": 34
    },
    "colab_type": "code",
    "collapsed": false,
    "id": "eCZEiHwn8SoB",
    "outputId": "73af79f0-4bde-43a7-cae1-57bddfa94523"
   },
   "outputs": [
    {
     "data": {
      "text/plain": [
       "['This', 'parrot', 'is', 'no', 'more']"
      ]
     },
     "execution_count": 80,
     "metadata": {},
     "output_type": "execute_result"
    }
   ],
   "source": [
    "ex3 = 'This parrot is no more'.split()\n",
    "ex3"
   ]
  },
  {
   "cell_type": "code",
   "execution_count": 81,
   "metadata": {
    "collapsed": false
   },
   "outputs": [
    {
     "data": {
      "text/plain": [
       "{'more', 'no'}"
      ]
     },
     "execution_count": 81,
     "metadata": {},
     "output_type": "execute_result"
    }
   ],
   "source": [
    "# Решение 2.7\n",
    "set(ex2) & set(ex3)"
   ]
  },
  {
   "cell_type": "markdown",
   "metadata": {
    "colab_type": "text",
    "id": "OYGRg-7X8VGF"
   },
   "source": [
    "8. Объедините списки ex2 и ex3 с помощью операций над множествами и превратите результат обратно в список."
   ]
  },
  {
   "cell_type": "code",
   "execution_count": 85,
   "metadata": {
    "colab": {},
    "colab_type": "code",
    "collapsed": false,
    "id": "qnQ294ej8TLF"
   },
   "outputs": [
    {
     "data": {
      "text/plain": [
       "['nudge,', 'This', 'more', 'no', 'is', 'Wink,', 'parrot', 'say', 'wink,']"
      ]
     },
     "execution_count": 85,
     "metadata": {},
     "output_type": "execute_result"
    }
   ],
   "source": [
    "# Решение 2.8\n",
    "list(set(ex2) | set(ex3))"
   ]
  },
  {
   "cell_type": "markdown",
   "metadata": {
    "colab_type": "text",
    "id": "0bM6hBe38eCu"
   },
   "source": [
    "9. Отсортируйте список ex2 по алфавиту по возрастанию с помощью параметра key, чтобы при сортировке не учитывался регистр (можно использовать ключ для заглавных, можно для строчных букв). Результат должен выглядеть так: ['more', 'no', 'nudge,', 'nudge,', 'say', 'Wink,', 'wink,']"
   ]
  },
  {
   "cell_type": "code",
   "execution_count": 100,
   "metadata": {
    "colab": {},
    "colab_type": "code",
    "collapsed": false,
    "id": "J8BCNbEx8qXZ"
   },
   "outputs": [
    {
     "data": {
      "text/plain": [
       "['more', 'no', 'nudge,', 'nudge,', 'say', 'wink,', 'Wink,']"
      ]
     },
     "execution_count": 100,
     "metadata": {},
     "output_type": "execute_result"
    }
   ],
   "source": [
    "# Решение 2.9\n",
    "sorted(ex2, key=str.upper)"
   ]
  },
  {
   "cell_type": "markdown",
   "metadata": {
    "colab_type": "text",
    "id": "EY2IPCsj8hoc"
   },
   "source": [
    "        5. Превратите список ex3 обратно в строку, где между словами будут стоять эмоджи ¯\\\\_(ツ)_/¯"
   ]
  },
  {
   "cell_type": "code",
   "execution_count": 102,
   "metadata": {
    "colab": {},
    "colab_type": "code",
    "collapsed": false,
    "id": "zkelPj248xUu"
   },
   "outputs": [
    {
     "data": {
      "text/plain": [
       "'more¯\\\\_(ツ)_/¯no¯\\\\_(ツ)_/¯say¯\\\\_(ツ)_/¯nudge,¯\\\\_(ツ)_/¯nudge,¯\\\\_(ツ)_/¯wink,¯\\\\_(ツ)_/¯Wink,'"
      ]
     },
     "execution_count": 102,
     "metadata": {},
     "output_type": "execute_result"
    }
   ],
   "source": [
    "# Решение 3.5\n",
    "\"¯\\\\_(ツ)_/¯\".join(ex2)"
   ]
  },
  {
   "cell_type": "markdown",
   "metadata": {
    "colab_type": "text",
    "id": "htWuUj1J2SFS"
   },
   "source": [
    "**3. Факультативы (1 балл)**\n",
    "\n",
    "Группа из 3 студентов пишет заявки на желаемые факультативы из списка: английский, немецкий, право, математика, сольфеджио. Факультатив откроют, если на него запишутся все студенты. Каждый студент может выбрать минимум один и максимум три факультатива. Нужно посчитать количество факультативов, которые откроются.\n",
    "\n",
    "**Формат ввода:**\n",
    "- Заявки на факультативы от студентов: факультативы из списка, разделенные пробелом. \n",
    "- Для каждого студента факультативы вводятся в новой строке.\n",
    "- На ввод гарантировано подается информация для трех студентов.\n",
    "\n",
    "**Формат вывода:**\n",
    "- Количество факультативов, на которые записались три человека.\n",
    "\n",
    "Пример 1:\n",
    "\n",
    "**Ввод:**\n",
    "\n",
    "английский сольфеджио право\n",
    "\n",
    "математика сольфеджио\n",
    "\n",
    "немецкий право\n",
    "\n",
    "**Вывод:**\n",
    "\n",
    "0\n",
    "\n",
    "Пример 2:\n",
    "\n",
    "**Ввод:**\n",
    "\n",
    "математика немецкий право\n",
    "\n",
    "математика немецкий\n",
    "\n",
    "немецкий право математика \n",
    "\n",
    "**Вывод:**\n",
    "\n",
    "2"
   ]
  },
  {
   "cell_type": "code",
   "execution_count": 14,
   "metadata": {
    "collapsed": false
   },
   "outputs": [
    {
     "name": "stdout",
     "output_type": "stream",
     "text": [
      "м н п\n",
      "м н\n",
      "н п м\n",
      "2\n"
     ]
    }
   ],
   "source": [
    "# Здесь решение задачи 3 (самое простое решение)\n",
    "electives = []\n",
    "for i in range(3):\n",
    "    electives.append(input().strip().split())\n",
    "intersect = set(electives[0]) & set(electives[1]) & set(electives[2]) # пересечение множеств дает требуемый результат\n",
    "print(len(intersect))"
   ]
  },
  {
   "cell_type": "code",
   "execution_count": 105,
   "metadata": {
    "collapsed": false
   },
   "outputs": [
    {
     "name": "stdout",
     "output_type": "stream",
     "text": [
      "математика немецкий право\n",
      "математика немецкий\n",
      "немецкий право математика \n",
      "2\n"
     ]
    }
   ],
   "source": [
    "# Здесь решение задачи 3 (для любого количества студентов)\n",
    "n_students = 3\n",
    "intersection = None\n",
    "for i in range(n_students):\n",
    "    electives = set(input().strip().split())\n",
    "    if intersection is None:\n",
    "        intersection = electives\n",
    "    else:\n",
    "        intersection = intersection & electives\n",
    "print(len(intersection))"
   ]
  },
  {
   "cell_type": "code",
   "execution_count": 104,
   "metadata": {
    "colab": {},
    "colab_type": "code",
    "collapsed": false,
    "id": "e_--D-lw1wNi"
   },
   "outputs": [
    {
     "name": "stdout",
     "output_type": "stream",
     "text": [
      "математика немецкий право\n",
      "математика немецкий\n",
      "немецкий право математика \n",
      "2\n"
     ]
    }
   ],
   "source": [
    "# Здесь решение задачи 3 через dict\n",
    "n_students = 3  # задаем количество студентов\n",
    "elec_dict = {}  # это будет наш словарь с ключами: название факультатива, и со значениями: количество записей на него\n",
    "for i in range(n_students):  # проходимся 3 раза\n",
    "    electives = input().strip().split() # читаем строку и разделяем на слова\n",
    "    for elective in electives: # проходимся по слову\n",
    "        if elective in elec_dict.keys(): # если факультатив уже есть в нашем словаре\n",
    "            elec_dict[elective] += 1 # прибавим к числу еще +1\n",
    "        else: # если ключа нет в словаре\n",
    "            elec_dict[elective] = 1 # создадим пару ключ значение\n",
    "result = 0\n",
    "for key, value in elec_dict.items():\n",
    "    if value == n_students:\n",
    "        result += 1\n",
    "print(result)"
   ]
  },
  {
   "cell_type": "markdown",
   "metadata": {
    "colab_type": "text",
    "id": "GC-wak_To6bu"
   },
   "source": [
    "**4. К-ый по величине (1 балл)**\n",
    "\n",
    "Дан список, элементы которого могут повторяться, и число K, которое не превышает количества элементов массива. Отсортируйте список в порядке убывания и выведите элемент, величина которого располагается на К-ом месте.\n",
    "\n",
    "**Формат ввода:**\n",
    "\n",
    "Массив из натуральных чисел, разделенных пробелом. Чисел может быть любое количество.\n",
    "\n",
    "Число K, 0 <= K <= количество элементов массива.\n",
    "\n",
    "**Формат ввода:**\n",
    "Элемент отсортированного по убыванию массива под индексом K.\n",
    "\n",
    "Пример 1\n",
    "\n",
    "**Ввод:**\n",
    "\n",
    "12 8 9 5 2\n",
    "\n",
    "2\n",
    "\n",
    "**Вывод:**\n",
    "\n",
    "8\n",
    "\n",
    "Пример 2\n",
    "\n",
    "**Ввод:**\n",
    "\n",
    "3 3 5 6 4 4\n",
    "\n",
    "5\n",
    "\n",
    "**Вывод:**\n",
    "\n",
    "3"
   ]
  },
  {
   "cell_type": "code",
   "execution_count": 2,
   "metadata": {
    "collapsed": false
   },
   "outputs": [
    {
     "name": "stdout",
     "output_type": "stream",
     "text": [
      "12 8 9 5 2\n",
      "2\n",
      "8\n"
     ]
    }
   ],
   "source": [
    "arr = list(map(int, input().split()))\n",
    "k = int(input())\n",
    "arr.sort(reverse = True)\n",
    "print(arr[k])"
   ]
  },
  {
   "cell_type": "markdown",
   "metadata": {
    "colab_type": "text",
    "id": "YKiYk8KL1wNl"
   },
   "source": [
    "**5. Бюджет (3.5 балла)**\n",
    "\n",
    "*(2.75 балла)*\n",
    "\n",
    "Петя ведет дневник расходов. Кажду трату он записывает в формате дата - сколько потрачено денег. Если в один день Петя тратил деньги несколько раз, то он записывает каждую трату как отдельную запись. В конце года Петя решил посчитать, сколько он потратил.\n",
    "\n",
    "На вход программа получает число N - количество записей в дневнике и N пар вида ГГГГ-ММ-ДД КОЛИЧЕСТВО ДЕНЕГ, разделенных пробелом.\n",
    "Даты могут повторяться.\n",
    "Количество денег может быть нецелым (float). \n",
    "N - натуральное число.\n",
    "\n",
    "Нужно создать словарь вида {ГГГГ-ММ-ДД : КОЛИЧЕСТВО ДЕНЕГ}, где даты являются ключами, а траты - значениями. Если в один день было совершено несколько трат - значения для них надо сложить. \n",
    "\n",
    "Петина программа должна выводить дату и общее количество потраченных денег в этот день через пробел. Каждая дата выводится в новой строке.\n",
    "\n",
    "*(0.75 балла)*\n",
    "\n",
    "Даты в выводе должны быть отсортированы по возрастанию.\n",
    "\n",
    "\n",
    "**Формат ввода:** \n",
    "\n",
    "Число N\n",
    "\n",
    "N пар вида ГГГГ-ММ-ДД КОЛИЧЕСТВО ДЕНЕГ\n",
    "\n",
    "**Формат вывода:** \n",
    "\n",
    "ГГГГ-ММ-ДД количество рублей\n",
    "\n",
    "**Пример 1**\n",
    "\n",
    "**Ввод:**\n",
    "\n",
    "3\n",
    "\n",
    "2018-03-19 574.3 \n",
    "\n",
    "2018-03-19 5932\n",
    "\n",
    "2007-02-18 532\n",
    "\n",
    "**Вывод:** \n",
    "\n",
    "2007-02-18 532\n",
    "\n",
    "2018-03-19 6506.3\n",
    "\n",
    "\n",
    "**Пример 2**\n",
    "\n",
    "**Ввод:**\n",
    "\n",
    "4\n",
    "\n",
    "2019-01-13 123\n",
    "\n",
    "2019-01-13 15.5\n",
    "\n",
    "2019-01-02 1982\n",
    "\n",
    "2018-04-02 1703\n",
    "\n",
    "**Вывод:** \n",
    "\n",
    "2018-04-02 1703\n",
    "\n",
    "2019-01-02 1982\n",
    "\n",
    "2019-01-13 138.5\n",
    "\n"
   ]
  },
  {
   "cell_type": "code",
   "execution_count": 5,
   "metadata": {
    "colab": {},
    "colab_type": "code",
    "collapsed": false,
    "id": "BVuy2pSd2SFT"
   },
   "outputs": [
    {
     "name": "stdout",
     "output_type": "stream",
     "text": [
      "3\n",
      "2018-03-19 574.3\n",
      "2018-03-19 5932\n",
      "2007-02-18 532\n",
      "2007-02-18 532.0\n",
      "2018-03-19 6506.3\n"
     ]
    }
   ],
   "source": [
    "# Здесь решение задачи 5\n",
    "n = int(input())\n",
    "array = []\n",
    "for i in range(n):\n",
    "    array.append(input().split())\n",
    "result = {} # создадим пустой словарь. туда будем записывать наши данные\n",
    "for row in array:\n",
    "    date, amount = row\n",
    "    if date in result.keys(): # если в словаре есть данный ключ то добавим сумму уже к существующей\n",
    "        result[date] += float(amount) # так как amount у нас сейчас str необходимо перевести его в float для корректного сложения\n",
    "    else: # если ключа нет в словаре добавим еще одну запись\n",
    "        result[date] = float(amount)\n",
    "for key in sorted(result.keys()): # выведем результат\n",
    "    print(key, result[key])"
   ]
  },
  {
   "cell_type": "markdown",
   "metadata": {
    "colab_type": "text",
    "id": "jELXD9Kl2SFG"
   },
   "source": [
    "**Дополнительное задание. Шеренга (2 балла)**\n",
    "\n",
    "Петя перешёл в другую школу. На уроке физкультуры ему понадобилось определить своё место в строю (ученики строятся от самого низкого к самому высокому). Помогите ему это сделать.\n",
    "\n",
    "Программа получает на вход невозрастающую последовательность натуральных чисел, означающих рост каждого человека в строю. После этого вводится число X – рост Пети. Все числа во входных данных натуральные и не превышают 200.\n",
    "\n",
    "Выведите номер, под которым Петя должен встать в строй. Если в строю есть люди с одинаковым ростом, таким же, как у Пети, то он должен встать после них. \n",
    "\n",
    "*(1 балл)*\n",
    "\n",
    "Решите задачу для случая, когда Петя гарантированно не является самым высоким учеником.\n",
    "\n",
    "*(1 балл)*\n",
    "\n",
    "Решите задачу для всех случаев\n",
    "\n",
    "\n",
    "**Формат ввода:** \n",
    "\n",
    "Невозрастающая последовательность натуральных чисел <=200, числа вводятся через пробел, чисел может быть любое количество.\n",
    "\n",
    "X - рост Пети, натуральное число <= 200.\n",
    "\n",
    "**Формат вывода:** \n",
    "\n",
    "Номер места Пети в строю, натуральное число (не может быть равно 0)\n",
    "\n",
    "\n",
    "Пример 1\n",
    "\n",
    "**Ввод:**\n",
    "\n",
    "100 142 200 124 124\n",
    "\n",
    "156\n",
    "\n",
    "**Вывод:**\n",
    "\n",
    "5\n",
    "\n",
    "\n",
    "Пример 2\n",
    "\n",
    "**Ввод:**\n",
    "\n",
    "135 125 152 152 178 188\n",
    "\n",
    "188\n",
    "\n",
    "**Вывод:**\n",
    "\n",
    "7"
   ]
  },
  {
   "cell_type": "code",
   "execution_count": 13,
   "metadata": {
    "colab": {},
    "colab_type": "code",
    "collapsed": false,
    "id": "WhM0pfcXikIF"
   },
   "outputs": [
    {
     "name": "stdout",
     "output_type": "stream",
     "text": [
      "10 14 20 12 12\n",
      "15\n",
      "5\n"
     ]
    }
   ],
   "source": [
    "# Здесь решение дополнительной задачи\n",
    "height = list(map(int, input().split()))\n",
    "petya = int(input())\n",
    "height.append(petya) # добавим в массив значенеие роста пети\n",
    "height.sort(reverse=True) # отсортируем по убыванию.\n",
    "print(len(height) - height.index(petya)) # метод index возвращает индекс первого попавшегося элемента. \n",
    "# Но так как мы развернули массив в обратную сторону получим последний индекс, если бы брали по возрастанию."
   ]
  },
  {
   "cell_type": "code",
   "execution_count": null,
   "metadata": {
    "collapsed": true
   },
   "outputs": [],
   "source": []
  }
 ],
 "metadata": {
  "colab": {
   "collapsed_sections": [],
   "name": "SR3_Rogovich.ipynb",
   "provenance": [],
   "version": "0.3.2"
  },
  "kernelspec": {
   "display_name": "Python 3",
   "language": "python",
   "name": "python3"
  },
  "language_info": {
   "codemirror_mode": {
    "name": "ipython",
    "version": 3
   },
   "file_extension": ".py",
   "mimetype": "text/x-python",
   "name": "python",
   "nbconvert_exporter": "python",
   "pygments_lexer": "ipython3",
   "version": "3.6.0"
  }
 },
 "nbformat": 4,
 "nbformat_minor": 1
}
