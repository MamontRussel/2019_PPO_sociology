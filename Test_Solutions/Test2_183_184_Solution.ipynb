{
  "nbformat": 4,
  "nbformat_minor": 0,
  "metadata": {
    "colab": {
      "name": "SR2_solution.ipynb",
      "version": "0.3.2",
      "provenance": [],
      "collapsed_sections": []
    },
    "language_info": {
      "codemirror_mode": {
        "name": "ipython",
        "version": 3
      },
      "file_extension": ".py",
      "mimetype": "text/x-python",
      "name": "python",
      "nbconvert_exporter": "python",
      "pygments_lexer": "ipython3",
      "version": "3.6.0"
    },
    "kernelspec": {
      "display_name": "Python 3",
      "language": "python",
      "name": "python3"
    }
  },
  "cells": [
    {
      "cell_type": "markdown",
      "metadata": {
        "colab_type": "text",
        "id": "0fcgHX_h2SEv"
      },
      "source": [
        "# Самостоятельная №2"
      ]
    },
    {
      "cell_type": "markdown",
      "metadata": {
        "id": "-q2gtNTOx37L",
        "colab_type": "text"
      },
      "source": [
        "# New Section"
      ]
    },
    {
      "cell_type": "markdown",
      "metadata": {
        "colab_type": "text",
        "id": "ZN14oLHV3jdh"
      },
      "source": [
        "**Списывание и использование телефонов**\n",
        "\n",
        "Первое предупреждение, сделанное ассистентом или преподавателем: - 1 балл к вашей оценке. \n",
        "\n",
        "Второе предупреждение: работа аннулируется без права переписывания."
      ]
    },
    {
      "cell_type": "markdown",
      "metadata": {
        "colab_type": "text",
        "id": "f8TCj5_o2iN0"
      },
      "source": [
        "0. **Оформление и стиль (0.5 балла).**\n",
        "\n",
        "Этот балл у вас есть по умолчанию при условии сданной работы с решенными задачами. \n",
        "\n",
        "За каждый тип повторяющейся стилистической ошибки снимается 0.25 балла Повторяющейся считаем ошибку, допущенную минимум 2 раза.\n",
        "\n",
        "0.25 балла снимается за каждые 4 не систематические ошибки (4 разных ошибки, допущенных по одному разу.)\n",
        "\n",
        "Так же из этого балла могут сниматься штрафы 0.1 за использование ненужных функций (мы не оцениваем здесь эффективность решения, но смотрим на такие вещи, как, например, перевод строкового вода в строку - лишняя ненужная операция.)\n",
        "\n",
        "**Все задачи должны принимать значения на ввод (решение для частного случая будет считаться неполным).**"
      ]
    },
    {
      "cell_type": "markdown",
      "metadata": {
        "colab_type": "text",
        "id": "hhFhOAbR2SEz"
      },
      "source": [
        "1. **Тест (2 балла, каждый вопрос по 0,2 балла)**"
      ]
    },
    {
      "cell_type": "markdown",
      "metadata": {
        "id": "IORJS0JiX4Sm",
        "colab_type": "text"
      },
      "source": [
        "       1. Дан следующий код:\n",
        "            x = 1\n",
        "            y = 2\n",
        "            def func(x):\n",
        "                z = 5\n",
        "                return x+z\n",
        "            \n",
        "            Укажите глобальные и локальные переменные."
      ]
    },
    {
      "cell_type": "code",
      "metadata": {
        "id": "l8C3Am5RX_TI",
        "colab_type": "code",
        "colab": {}
      },
      "source": [
        "# Ваш ответ на вопрос 1 здесь в комментарии\n",
        "# Локальные переменные: x, z\n",
        "# Глобальные переменные: x, y"
      ],
      "execution_count": 0,
      "outputs": []
    },
    {
      "cell_type": "markdown",
      "metadata": {
        "id": "12lEXYIRj2Pa",
        "colab_type": "text"
      },
      "source": [
        "        2. sent = \"1, 2,3, 4,5, 26\"\n",
        "            sent.replace(arg1, arg2)\n",
        "            \n",
        "            Какие значения должны иметь arg1 и arg2 чтобы получить строку \"11,3, 4,516\"?\n",
        "            (Известно, что длина arg1 <4 и длина arg2 < 2)"
      ]
    },
    {
      "cell_type": "code",
      "metadata": {
        "id": "K8kks_bJj5A-",
        "colab_type": "code",
        "colab": {}
      },
      "source": [
        "# Ваш ответ на вопрос 2 здесь в комментарии\n",
        "# arg1: \", 2\"\n",
        "# arg2: \"1\""
      ],
      "execution_count": 0,
      "outputs": []
    },
    {
      "cell_type": "markdown",
      "metadata": {
        "id": "LJmqZeW1_RGg",
        "colab_type": "text"
      },
      "source": [
        "           \n",
        "        3. a = (1, 2, 3, 'abc')\n",
        "            Как называется тип переменной a на русском языке?"
      ]
    },
    {
      "cell_type": "code",
      "metadata": {
        "id": "axzQUvUbkbRE",
        "colab_type": "code",
        "colab": {}
      },
      "source": [
        "# Ваш ответ на вопрос 3 здесь в комментарии\n",
        "# кортеж"
      ],
      "execution_count": 0,
      "outputs": []
    },
    {
      "cell_type": "markdown",
      "metadata": {
        "id": "BDzMVT_jkhKJ",
        "colab_type": "text"
      },
      "source": [
        "        4. Даны типы данных: int, list, str, tuple, float. \n",
        "            Какие из них являются неизменяемыми типами?"
      ]
    },
    {
      "cell_type": "code",
      "metadata": {
        "id": "23-CvvrFkijT",
        "colab_type": "code",
        "colab": {}
      },
      "source": [
        "# Ваш ответ на вопрос 4 здесь в комментарии\n",
        "# int, str, tuple, float"
      ],
      "execution_count": 0,
      "outputs": []
    },
    {
      "cell_type": "markdown",
      "metadata": {
        "id": "i67EWdjbnAZ-",
        "colab_type": "text"
      },
      "source": [
        "        5. x = \"['a', 'b']\"\n",
        "                Какой тип переменной x?"
      ]
    },
    {
      "cell_type": "code",
      "metadata": {
        "id": "ZoJPWid2k6kf",
        "colab_type": "code",
        "colab": {}
      },
      "source": [
        "# Ваш ответ на вопрос 5 здесь в комментарии\n",
        "# str"
      ],
      "execution_count": 0,
      "outputs": []
    },
    {
      "cell_type": "markdown",
      "metadata": {
        "id": "O2M-krb9nKWE",
        "colab_type": "text"
      },
      "source": [
        "![alt text](https://)        6. Приведите два варианта создания пустого списка."
      ]
    },
    {
      "cell_type": "code",
      "metadata": {
        "id": "IP_M6dMynJbw",
        "colab_type": "code",
        "colab": {}
      },
      "source": [
        "# Ваш ответ на вопрос 6 здесь в комментарии\n",
        "# Вариант 1: list()\n",
        "# Вариант 2: []"
      ],
      "execution_count": 0,
      "outputs": []
    },
    {
      "cell_type": "markdown",
      "metadata": {
        "id": "ClfkxknPnTeX",
        "colab_type": "text"
      },
      "source": [
        "        7. Даны 2 функции, принимающие на вход список целых чисел:\n",
        "            \n",
        "            #A\n",
        "            def fun2(a):\n",
        "                result = []\n",
        "                for element in a:\n",
        "                    result.append(element**2)\n",
        "                return result\n",
        "            \n",
        "            #B\n",
        "            def fun3(a):\n",
        "                square = lambda x: x**2\n",
        "                result = list(map(square,a))\n",
        "                return result\n",
        "            \n",
        "            Какая или какие из них выведут массив с квадратами элеметов списка a? Выберите ответ из A, B"
      ]
    },
    {
      "cell_type": "code",
      "metadata": {
        "id": "lbT1M5cBnS1-",
        "colab_type": "code",
        "colab": {}
      },
      "source": [
        "# Ваш ответ на вопрос 7 здесь в комментарии\n",
        "# A, B"
      ],
      "execution_count": 0,
      "outputs": []
    },
    {
      "cell_type": "markdown",
      "metadata": {
        "id": "MwSEZGOjneQX",
        "colab_type": "text"
      },
      "source": [
        "        8. В чем отличие math.floor от math.trunc?"
      ]
    },
    {
      "cell_type": "code",
      "metadata": {
        "id": "hV4veWF7neF_",
        "colab_type": "code",
        "colab": {}
      },
      "source": [
        "# Ваш ответ на вопрос 8 здесь в комментарии\n",
        "# floor: округление к меньшему, trunc: отбрасывание дробной части"
      ],
      "execution_count": 0,
      "outputs": []
    },
    {
      "cell_type": "markdown",
      "metadata": {
        "id": "yvz_rPC1nkVX",
        "colab_type": "text"
      },
      "source": [
        "        9. x = [[1,2],(3,4,\"5,6\")]\n",
        "              Как обратиться по индексу к элементу 5?"
      ]
    },
    {
      "cell_type": "code",
      "metadata": {
        "id": "g5Yh-LyVnkdD",
        "colab_type": "code",
        "colab": {}
      },
      "source": [
        "# Ваш ответ на вопрос 9 здесь в комментарии\n",
        "# x[1][2][0]"
      ],
      "execution_count": 0,
      "outputs": []
    },
    {
      "cell_type": "markdown",
      "metadata": {
        "id": "q16nymLanq3I",
        "colab_type": "text"
      },
      "source": [
        "        10. Превратите строку 'abc' в список ['A', 'B', 'C'] c использование функции map и анонимной функции lambda.\n",
        "        Подсказка: перевести строку в верхний регистр можно с помощью метода .upper()"
      ]
    },
    {
      "cell_type": "code",
      "metadata": {
        "id": "Mn5l53dBnstK",
        "colab_type": "code",
        "colab": {}
      },
      "source": [
        "# Ваш ответ на вопрос 10 здесь в коде ниже\n",
        "# x = list(map(lambda s: s.upper(), 'abc'))"
      ],
      "execution_count": 0,
      "outputs": []
    },
    {
      "cell_type": "markdown",
      "metadata": {
        "colab_type": "text",
        "id": "n1zNgnTw2SE1"
      },
      "source": [
        "2. **Задания на методы строк (1 балл, каждый вопрос по 0,2 балла)**\n",
        "\n",
        "Дана строка. C помощью методов строк, выполните следующие задания (все задания, кроме пятого можно решить с помощью одного метода)."
      ]
    },
    {
      "cell_type": "code",
      "metadata": {
        "id": "xyhRLXy_54gY",
        "colab_type": "code",
        "colab": {}
      },
      "source": [
        "# исполните эту ячейку\n",
        "ex2 = \".by the holy light.\""
      ],
      "execution_count": 0,
      "outputs": []
    },
    {
      "cell_type": "markdown",
      "metadata": {
        "id": "tsWfj7p16795",
        "colab_type": "text"
      },
      "source": [
        "\n",
        "      1. Вывести измененную строку - убрать точку слева (не решать через срез строк).\n"
      ]
    },
    {
      "cell_type": "code",
      "metadata": {
        "id": "ayWccGmf1wNG",
        "colab_type": "code",
        "colab": {}
      },
      "source": [
        "# Решение 2.1 \n",
        "ex2.lstrip(\".\")"
      ],
      "execution_count": 0,
      "outputs": []
    },
    {
      "cell_type": "markdown",
      "metadata": {
        "id": "90EWiUYV4_m8",
        "colab_type": "text"
      },
      "source": [
        "        2. Вывести индекс последнего вхождения буквы \"l\"\n"
      ]
    },
    {
      "cell_type": "code",
      "metadata": {
        "id": "qh2BJZlG5Ncf",
        "colab_type": "code",
        "colab": {}
      },
      "source": [
        "# Решение 2.2\n",
        "ex2.rfind(\"l\")"
      ],
      "execution_count": 0,
      "outputs": []
    },
    {
      "cell_type": "markdown",
      "metadata": {
        "id": "DkFIMSyu5VZH",
        "colab_type": "text"
      },
      "source": [
        "       3. Заменить все буквы \"t\" на \"U\""
      ]
    },
    {
      "cell_type": "code",
      "metadata": {
        "id": "wI5zWRzl7i0w",
        "colab_type": "code",
        "colab": {}
      },
      "source": [
        "# Решение 2.3\n",
        "ex2.replace('t','U')"
      ],
      "execution_count": 0,
      "outputs": []
    },
    {
      "cell_type": "markdown",
      "metadata": {
        "id": "DR_f71s15NtK",
        "colab_type": "text"
      },
      "source": [
        "        4. Вывести количество вхождений элемента \"h\"\n"
      ]
    },
    {
      "cell_type": "code",
      "metadata": {
        "id": "wq2L-OVi5aur",
        "colab_type": "code",
        "colab": {}
      },
      "source": [
        "# Решение 2.4\n",
        "ex2.count('h')"
      ],
      "execution_count": 0,
      "outputs": []
    },
    {
      "cell_type": "markdown",
      "metadata": {
        "id": "6511a9yY5a--",
        "colab_type": "text"
      },
      "source": [
        "        5. Получить массив из слов без точек (решается с помощью двух методов)."
      ]
    },
    {
      "cell_type": "code",
      "metadata": {
        "id": "2pRW-FSG7Dku",
        "colab_type": "code",
        "colab": {}
      },
      "source": [
        "# Решение 2.5\n",
        "ex2.strip('.').split()"
      ],
      "execution_count": 0,
      "outputs": []
    },
    {
      "cell_type": "markdown",
      "metadata": {
        "id": "Y3Km-n3O1wNS",
        "colab_type": "text"
      },
      "source": [
        "3. **Задания на срезы строк (0,5 балла, каждый вопрос по 0,1 балла)**\n",
        "\n",
        "Дана строка ex3 = \"Please call me at 12:34 on the number 89123456789.\"\n",
        "\n",
        "Используя срезы выполните следующие задания."
      ]
    },
    {
      "cell_type": "code",
      "metadata": {
        "id": "Qhccbbo-72ta",
        "colab_type": "code",
        "colab": {}
      },
      "source": [
        "# исполните эту ячейку\n",
        "ex3 = \"Please call me at 12:34 on the number 89123456789.\""
      ],
      "execution_count": 0,
      "outputs": []
    },
    {
      "cell_type": "markdown",
      "metadata": {
        "id": "NFSB2hSD8KnR",
        "colab_type": "text"
      },
      "source": [
        "        1. Выведите строку, состоящую из первых 4-х символов\n"
      ]
    },
    {
      "cell_type": "code",
      "metadata": {
        "id": "mhmnPGZQ8Nkb",
        "colab_type": "code",
        "colab": {}
      },
      "source": [
        "# Решение 3.1\n",
        "ex3[:4]"
      ],
      "execution_count": 0,
      "outputs": []
    },
    {
      "cell_type": "markdown",
      "metadata": {
        "id": "MFCyjwFz8N3D",
        "colab_type": "text"
      },
      "source": [
        "        2. Выведите строку, содержащую только \"call\""
      ]
    },
    {
      "cell_type": "code",
      "metadata": {
        "id": "eCZEiHwn8SoB",
        "colab_type": "code",
        "colab": {}
      },
      "source": [
        "# Решение 3.2\n",
        "ex3[7:11]"
      ],
      "execution_count": 0,
      "outputs": []
    },
    {
      "cell_type": "markdown",
      "metadata": {
        "id": "OYGRg-7X8VGF",
        "colab_type": "text"
      },
      "source": [
        "        3. Выведите строку без последнего символа с использованием индексации с конца строки."
      ]
    },
    {
      "cell_type": "code",
      "metadata": {
        "id": "qnQ294ej8TLF",
        "colab_type": "code",
        "colab": {}
      },
      "source": [
        "# Решение 3.3\n",
        "ex3[:-1]"
      ],
      "execution_count": 0,
      "outputs": []
    },
    {
      "cell_type": "markdown",
      "metadata": {
        "id": "0bM6hBe38eCu",
        "colab_type": "text"
      },
      "source": [
        "        4. Выведите строку, идущую в обратном направлении\n"
      ]
    },
    {
      "cell_type": "code",
      "metadata": {
        "id": "J8BCNbEx8qXZ",
        "colab_type": "code",
        "colab": {}
      },
      "source": [
        "# Решение 3.4\n",
        "ex3[::-1]"
      ],
      "execution_count": 0,
      "outputs": []
    },
    {
      "cell_type": "markdown",
      "metadata": {
        "id": "EY2IPCsj8hoc",
        "colab_type": "text"
      },
      "source": [
        "        5. Выведите строку, образованную из нечетных индексов данной строки \n",
        "        ('Pes alm t1:4o h ubr813579')"
      ]
    },
    {
      "cell_type": "code",
      "metadata": {
        "id": "zkelPj248xUu",
        "colab_type": "code",
        "colab": {}
      },
      "source": [
        "# Решение 3.5\n",
        "ex3[::2] # четные индексы\n",
        "ex3[1::2] # нечетные индексы"
      ],
      "execution_count": 0,
      "outputs": []
    },
    {
      "cell_type": "markdown",
      "metadata": {
        "colab_type": "text",
        "id": "htWuUj1J2SFS"
      },
      "source": [
        "**4. Именины (1,5 балла)**\n",
        "\n",
        "На мероприятии организаторы дарят подарки гостям, которые в этот день празднуют именины. Помогите определить организаторам, сколько подарков надо подарить.\n",
        "\n",
        "**Формат ввода:**\n",
        "- Первая строка - имя людей, которые празднуют именины.\n",
        "- Вторая строка - список гостей вида “Имя Фамилия” через запятую. \n",
        "\n",
        "**Формат вывода:**\n",
        "- Количество людей из списка гостей, которые празднуют именины\n",
        "\n",
        "Пример 1:\n",
        "\n",
        "**Ввод:**\n",
        "\n",
        "Татьяна\n",
        "\n",
        "Мария Смирнова, Татьяна Иванова\n",
        "\n",
        "**Вывод:**\n",
        "1\n",
        "\n",
        "Пример 2:\n",
        "\n",
        "**Ввод:**\n",
        "\n",
        "Иван\n",
        "\n",
        "Иван Сидоров, Миша Иванов, Иван Смирнов\n",
        "\n",
        "**Вывод:**\n",
        "2"
      ]
    },
    {
      "cell_type": "code",
      "metadata": {
        "id": "e_--D-lw1wNi",
        "colab_type": "code",
        "colab": {}
      },
      "source": [
        "# Здесь решение задачи 4\n",
        "cel_name = input()\n",
        "counter = 0  # счетчик\n",
        "list_of_names = input().split(', ')  # разделяем элементы по ', '\n",
        "for fl_name in list_of_names:  # проходимся по именам с фамилиями\n",
        "    name = fl_name.split()[0]  # берем только имя\n",
        "    if name == cel_name:  # проверка на целевое имя\n",
        "        counter += 1  # добавляем в счетчик + 1\n",
        "print(counter)"
      ],
      "execution_count": 0,
      "outputs": []
    },
    {
      "cell_type": "markdown",
      "metadata": {
        "id": "YKiYk8KL1wNl",
        "colab_type": "text"
      },
      "source": [
        "**5. Голосование (1,5 балла)**\n",
        "\n",
        "Напишите \"функцию голосования\" def Election(*здесь аргументы*), возвращающую то значение (1 или 0), которое среди значений ее аргументов встречается чаще. Количество аргументов может быть любым. В случае равного количество единиц и нулей - функция возвращает строку 'Equality'. \n",
        "\n",
        "Напечатайте результаты работы функции на следующих аргументах:\n",
        "- 0\n",
        "- 0, 0, 0, 1\n",
        "- 0, 0, 1\n",
        "- 1, 1, 1, 0, 1\n",
        "- 0, 0, 1, 1, 0, 1\n",
        "\n",
        "Обратите внимание, что в программе не должно быть ввода с помощью функции input(), а функция Election должна принимать на ввод именно числа, а не содержащие их строки, списки или массивы.\n",
        "\n",
        "Формат вывода:\n",
        "- Необходимо вывести значения функции от вышеуказанных аргументов."
      ]
    },
    {
      "cell_type": "code",
      "metadata": {
        "colab_type": "code",
        "id": "BVuy2pSd2SFT",
        "colab": {}
      },
      "source": [
        "# Здесь решение задачи 5\n",
        "def Election(*args):\n",
        "    result = sum(args)/len(args)  # можно по идее циклом, но так проще\n",
        "    if result > 0.5:\n",
        "        return 1\n",
        "    elif result < 0.5:\n",
        "        return 0\n",
        "    else:\n",
        "        return 'Equality'\n",
        "\n",
        "print(Election(0))\n",
        "print(Election(0, 0, 0, 1))\n",
        "print(Election(0, 0, 1))\n",
        "print(Election(1, 1, 1, 0, 1))\n",
        "print(Election(0, 0, 1, 1, 0, 1))"
      ],
      "execution_count": 0,
      "outputs": []
    },
    {
      "cell_type": "markdown",
      "metadata": {
        "colab_type": "text",
        "id": "PRZwpalY2SFX"
      },
      "source": [
        "**6. Индексирование (1.25 балла)**\n",
        "\n",
        "Напишите программу, которая принимает на вход строки и и число n и возвращает список строк, где они  “проиндексированы” от 1 до n включительно.\n",
        "\n",
        "\n",
        "Пример:\n",
        "Ввод:\n",
        "- семинар контрольная\n",
        "- 3\n",
        "\n",
        "Вывод:\n",
        "[‘семинар1’,  ‘контрольная1’, ‘семинар2’, ‘контрольная2’, ‘семинар3’, ‘контрольная3’]\n"
      ]
    },
    {
      "cell_type": "code",
      "metadata": {
        "colab_type": "code",
        "id": "6PiQyxPa2SFg",
        "colab": {}
      },
      "source": [
        "# Здесь решение задачи 6\n",
        "input_list = input().split()  #получаем слова\n",
        "number = int(input())  # получаем число n\n",
        "result = []  # создадим пустой список куда будем записывать новые слова\n",
        "for i in range(number):  # проходимся по числам от 0 до 3 (не вкл)\n",
        "    for elem in input_list:  # проходимся по словам\n",
        "        result.append(elem+str(i+1))  # создаем новое слово и добавляем его в result\n",
        "print(result)"
      ],
      "execution_count": 0,
      "outputs": []
    },
    {
      "cell_type": "markdown",
      "metadata": {
        "colab_type": "text",
        "id": "ZdsljjZ62SFm"
      },
      "source": [
        "**7. Кэшбек (1.75 балла)**\n",
        "\n",
        "Покупки с карточки распределяются по категориям, которые пронумерованы натуральными числами. За покупки категорий 1 и 2 начисляется повышенный кэшбек: в категории 1: 5% за каждую покупку, в категории 2: 7%. За покупки всех остальных категорий начисляется 1%. Напишите программу, которая по истории покупок подсчитывает суммарный кэшбек.\n",
        "\n",
        "**Задачу можно решить для частного случая на 0.75 балла.**\n",
        "\n",
        "**Формат ввода:**\n",
        "- Множество пар вида “номер категории (целое число) - сумма покупки (действительное число)”. Количество таких пар может быть любым. Каждая пара вводится с новой строки, ввод заканчивается нулем.\n",
        "\n",
        "**Формат вывода: **\n",
        "\n",
        "- Действительное число (суммарный кэшбек).\n",
        "\n",
        "Пример:\n",
        "\n",
        "**Ввод:**\n",
        "- 7 250.50\n",
        "- 2 1000\n",
        "- 1 50\n",
        "- 0\n",
        "\n",
        "**Вывод:**\n",
        "- 75.005\n"
      ]
    },
    {
      "cell_type": "code",
      "metadata": {
        "id": "7Ef_PuIpiksK",
        "colab_type": "code",
        "colab": {}
      },
      "source": [
        "# Здесь решение задачи 7\n",
        "row = input()  # считываем 1 строку\n",
        "total_cashback = 0\n",
        "while(row != \"0\"):\n",
        "    number, amount = row.split()  # разделяем на номер категории и сумму покупки\n",
        "    if number == \"1\":  # 1 категория 5%\n",
        "        cashback = 0.05\n",
        "    elif number == \"2\":  # 2 категория 7%\n",
        "        cashback = 0.07\n",
        "    else:  # остальные категории 1%\n",
        "        cashback = 0.01\n",
        "    total_cashback += cashback * float(amount)  # полученный кэшбек от покупки\n",
        "    row = input()  # считываем новую строку\n",
        "print(total_cashback)"
      ],
      "execution_count": 0,
      "outputs": []
    },
    {
      "cell_type": "markdown",
      "metadata": {
        "colab_type": "text",
        "id": "jELXD9Kl2SFG"
      },
      "source": [
        "**Дополнительное задание**\n",
        "\n",
        "**Удаление элемента из кортежа (1,5 балла)**\n",
        "\n",
        "Напишите функцию def RemoveFromTuple (item, myTuple), которая проверяет, есть ли элемент item в кортеже myTuple, и возвращает myTuple без item (если элемента в кортеже нет, кортеж возвращается в первоначальном виде, иначе элемент удаляется из кортежа). Если элемент встречается в кортеже несколько раз - удаляется только первый случай. И кортеж, и элементы - строки.\n",
        "\n",
        "**Формат ввода:**\n",
        "- Первая строка - объект, который нужно удалить из кортежа\n",
        "- Вторая строка - элементы кортежа через пробел\n",
        "\n",
        "**Формат вывода:**\n",
        "- ‘YES’, если объект есть в кортеже, ‘NO’, если нет\n",
        "- Результат работы функции RemoveFromTuple от входных данных\n",
        "\n",
        "Примеры:\n",
        "\n",
        "**Ввод:**\n",
        "\n",
        "a\n",
        "\n",
        "b d b a d c a\n",
        "\n",
        "**Ввод:**\n",
        "\n",
        "'YES'\n",
        "\n",
        "('b', 'd', 'b', 'd', 'c', 'a')\n",
        "\n",
        "**Ввод:**\n",
        "\n",
        "artemis\n",
        "\n",
        "portos atos dartagnian\n",
        "\n",
        "**Ввод:**\n",
        "\n",
        "'NO'\n",
        "\n",
        "(\"portos\", \"atos\", \"dartagnian\")\n"
      ]
    },
    {
      "cell_type": "code",
      "metadata": {
        "id": "WhM0pfcXikIF",
        "colab_type": "code",
        "colab": {}
      },
      "source": [
        "# Здесь решение дополнительной задачи\n",
        "def RemoveFromTuple(item, myTuple): \n",
        "    n = len(myTuple)  # длина кортежа\n",
        "    i = 0  # индекс\n",
        "    while(i < n):  # пока индекс меньше длины кортежа\n",
        "        if myTuple[i] == item:  # если элемент найден\n",
        "            print(\"YES\")\n",
        "            return myTuple[:i] + myTuple[i+1:]  # выводим tuple без элемента с индексом i\n",
        "        i += 1  # инкремент\n",
        "    else:  # если элемент не найден (вышел из цикла не вып. условие i < n)\n",
        "        print(\"NO\")\n",
        "        return myTuple\n",
        "\n",
        "item = input()\n",
        "myTuple = tuple(input().split())\n",
        "RemoveFromTuple(item, myTuple)"
      ],
      "execution_count": 0,
      "outputs": []
    },
    {
      "cell_type": "markdown",
      "metadata": {
        "id": "1unAvaZTrdUG",
        "colab_type": "text"
      },
      "source": [
        ""
      ]
    }
  ]
}